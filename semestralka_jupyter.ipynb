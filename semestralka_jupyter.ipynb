{
 "cells": [
  {
   "cell_type": "code",
   "execution_count": 93,
   "id": "6f07b16a",
   "metadata": {},
   "outputs": [],
   "source": [
    "import numpy as np\n",
    "import sys\n",
    "#!{sys.executable} -m pip install do_mpc\n",
    "import do_mpc\n",
    "# !{sys.executable} -mpip install slycot  \n",
    "# !{sys.executable} -mpip install control\n",
    "import control\n",
    "# import slycot\n",
    "import matplotlib.pyplot as plt\n",
    "from math import inf, pi, sin\n",
    "# !{sys.executable} -m pip install --upgrade scipy\n",
    "from scipy.integrate import odeint"
   ]
  },
  {
   "cell_type": "markdown",
   "id": "1652ee23",
   "metadata": {},
   "source": [
    "# Semestralni prace"
   ]
  },
  {
   "cell_type": "markdown",
   "id": "cbe9c407",
   "metadata": {},
   "source": [
    "## Parametry systemu (inverse pendulum)"
   ]
  },
  {
   "cell_type": "code",
   "execution_count": 39,
   "id": "fa640e01",
   "metadata": {},
   "outputs": [],
   "source": [
    "M = .5\n",
    "m = 0.2\n",
    "b = 0.1\n",
    "I = 0.006\n",
    "g = 9.8\n",
    "l = 0.3"
   ]
  },
  {
   "cell_type": "markdown",
   "id": "9d3c4809",
   "metadata": {},
   "source": [
    "### State space Vector:"
   ]
  },
  {
   "cell_type": "markdown",
   "id": "1a472cf8",
   "metadata": {},
   "source": [
    "\\begin{bmatrix}\n",
    "       x \\\\\n",
    "       \\dot{x} \\\\\n",
    "       \\theta \\\\\n",
    "       \\dot{\\theta}\n",
    " \\end{bmatrix}"
   ]
  },
  {
   "cell_type": "code",
   "execution_count": 40,
   "id": "d4b0b3b8",
   "metadata": {},
   "outputs": [],
   "source": [
    "p = I*(M+m)+M*m*l**2"
   ]
  },
  {
   "cell_type": "code",
   "execution_count": 41,
   "id": "bc748022",
   "metadata": {},
   "outputs": [
    {
     "name": "stdout",
     "output_type": "stream",
     "text": [
      "[[0, 1, 0, 0], [0, -0.18181818181818182, 2.6727272727272737, 0], [0, 0, 0, 1], [0, -0.45454545454545453, 31.181818181818183, 0]]\n",
      "[[0], [1.8181818181818181], [0], [4.545454545454545]]\n",
      "[[1, 0, 0, 0], [0, 0, 1, 0]]\n",
      "[[0], [0]]\n"
     ]
    }
   ],
   "source": [
    "A = [[0,      1,              0,           0],\n",
    "     [0, -(I+m*l**2)*b/p,  (m**2*g*l**2)/p,   0],\n",
    "     [0,      0,              0,           1],\n",
    "     [0, -(m*l*b)/p,       m*g*l*(M+m)/p,  0]]\n",
    "\n",
    "B = [[     0],\n",
    "     [(I+m*l**2)/p],\n",
    "     [     0],\n",
    "     [   m*l/p]]\n",
    "\n",
    "C = [[1, 0, 0, 0],\n",
    "     [0, 0, 1, 0]]\n",
    "\n",
    "D = [[0],\n",
    "     [0]]\n",
    "\n",
    "\n",
    "print(A)\n",
    "print(B)\n",
    "print(C)\n",
    "print(D)"
   ]
  },
  {
   "cell_type": "code",
   "execution_count": 42,
   "id": "c098d95f",
   "metadata": {},
   "outputs": [],
   "source": [
    "sys = control.StateSpace(A, B, C, D)"
   ]
  },
  {
   "cell_type": "code",
   "execution_count": 43,
   "id": "53bf802c",
   "metadata": {},
   "outputs": [
    {
     "name": "stderr",
     "output_type": "stream",
     "text": [
      "c:\\users\\kpass\\appdata\\local\\programs\\python\\python37\\lib\\site-packages\\control\\timeresp.py:1037: RuntimeWarning: overflow encountered in matmul\n",
      "  + Bd0 @ U[:, i-1] + Bd1 @ U[:, i])\n",
      "c:\\users\\kpass\\appdata\\local\\programs\\python\\python37\\lib\\site-packages\\control\\timeresp.py:1037: RuntimeWarning: invalid value encountered in matmul\n",
      "  + Bd0 @ U[:, i-1] + Bd1 @ U[:, i])\n",
      "c:\\users\\kpass\\appdata\\local\\programs\\python\\python37\\lib\\site-packages\\control\\timeresp.py:1038: RuntimeWarning: invalid value encountered in matmul\n",
      "  yout = C @ xout + D @ U\n"
     ]
    },
    {
     "data": {
      "image/png": "[encoded data removed]",
      "text/plain": [
       "<Figure size 432x288 with 2 Axes>"
      ]
     },
     "metadata": {
      "needs_background": "light"
     },
     "output_type": "display_data"
    }
   ],
   "source": [
    "response = control.step_response(sys)\n",
    "\n",
    "fig, axs = plt.subplots(2)\n",
    "axs[0].plot(response.time, response.outputs[0][0])\n",
    "axs[0].set_title('x step response')\n",
    "axs[1].plot(response.time, response.outputs[1][0])\n",
    "axs[1].set_title('theta step response')\n",
    "plt.subplots_adjust(left=0.1,\n",
    "                    bottom=0.1, \n",
    "                    right=0.9, \n",
    "                    top=0.9, \n",
    "                    wspace=0.4, \n",
    "                    hspace=0.4)\n"
   ]
  },
  {
   "cell_type": "code",
   "execution_count": 44,
   "id": "078837f5",
   "metadata": {},
   "outputs": [],
   "source": [
    "w, v = np.linalg.eig(A)"
   ]
  },
  {
   "cell_type": "code",
   "execution_count": 45,
   "id": "d9645958",
   "metadata": {},
   "outputs": [
    {
     "name": "stdout",
     "output_type": "stream",
     "text": [
      "[ 0.         -0.14283164 -5.60409413  5.56510758]\n"
     ]
    }
   ],
   "source": [
    "print(w) # eigenvalues (vlastni cisla), jedno je kladne -> system je nestabilni"
   ]
  },
  {
   "cell_type": "markdown",
   "id": "ef14272c",
   "metadata": {},
   "source": [
    "## Controllability and observability"
   ]
  },
  {
   "cell_type": "code",
   "execution_count": 46,
   "id": "d681f70e",
   "metadata": {},
   "outputs": [
    {
     "name": "stdout",
     "output_type": "stream",
     "text": [
      "[[  0.           1.81818182  -0.33057851  12.20886551]\n",
      " [  1.81818182  -0.33057851  12.20886551  -4.42865924]\n",
      " [  0.           4.54545455  -0.82644628 141.88580015]\n",
      " [  4.54545455  -0.82644628 141.88580015 -31.319582  ]]\n",
      "4\n"
     ]
    }
   ],
   "source": [
    "# Making controllability gram matrix:\n",
    "\n",
    "R = control.ctrb(A, B) # [B, A*B, A^2*B, A^3*B]\n",
    "print(R)\n",
    "print(np.linalg.matrix_rank(R))"
   ]
  },
  {
   "cell_type": "markdown",
   "id": "640da8c5",
   "metadata": {},
   "source": [
    "## State feedback controller:"
   ]
  },
  {
   "cell_type": "code",
   "execution_count": 47,
   "id": "e15eb721",
   "metadata": {},
   "outputs": [
    {
     "name": "stdout",
     "output_type": "stream",
     "text": [
      "[[-0.05393143 -0.27397959  8.93857257  1.16959184]]\n"
     ]
    }
   ],
   "source": [
    "# Place new poles, so the system would be stable: \n",
    "\n",
    "des_eig = [-1.1, -1.2, -1.3, -1.4]\n",
    "K = control.place(A, B, des_eig)\n",
    "\n",
    "print(K)"
   ]
  },
  {
   "cell_type": "code",
   "execution_count": 48,
   "id": "411fe27f",
   "metadata": {},
   "outputs": [
    {
     "name": "stdout",
     "output_type": "stream",
     "text": [
      "[-1.4 -1.3 -1.2 -1.1]\n"
     ]
    }
   ],
   "source": [
    "# New eigenvalues of the close loop system with state controller, so the system is now stable:\n",
    "\n",
    "w_n, v_n = np.linalg.eig(A-B*K)\n",
    "print(w_n)"
   ]
  },
  {
   "cell_type": "code",
   "execution_count": 49,
   "id": "b6664bd7",
   "metadata": {},
   "outputs": [
    {
     "data": {
      "image/png": "[encoded data removed]",
      "text/plain": [
       "<Figure size 432x288 with 3 Axes>"
      ]
     },
     "metadata": {
      "needs_background": "light"
     },
     "output_type": "display_data"
    }
   ],
   "source": [
    "# trying out step on system with state controller: \n",
    "\n",
    "state_ctrl_fdbk_sys = control.StateSpace(A-B*K, -K.transpose(), C, D)\n",
    "\n",
    "response_state_ctrl = control.step_response(state_ctrl_fdbk_sys)\n",
    "\n",
    "fig, axs = plt.subplots(3)\n",
    "axs[0].plot(response_state_ctrl.time, response_state_ctrl.outputs[0][0])\n",
    "axs[0].set_title('x step response')\n",
    "axs[1].plot(response_state_ctrl.time, response_state_ctrl.outputs[1][0])\n",
    "axs[1].set_title('theta step response')\n",
    "axs[2].plot(response_state_ctrl.time, response_state_ctrl.inputs[0][0])\n",
    "axs[2].set_title('u')\n",
    "plt.subplots_adjust(left=0.1,\n",
    "                    bottom=0.1, \n",
    "                    right=0.9, \n",
    "                    top=1.3, \n",
    "                    wspace=0.4, \n",
    "                    hspace=0.4)"
   ]
  },
  {
   "cell_type": "code",
   "execution_count": 50,
   "id": "0900ab4f",
   "metadata": {},
   "outputs": [
    {
     "data": {
      "image/png": "[encoded data removed]",
      "text/plain": [
       "<Figure size 432x288 with 3 Axes>"
      ]
     },
     "metadata": {
      "needs_background": "light"
     },
     "output_type": "display_data"
    }
   ],
   "source": [
    "# rescaling:\n",
    "\n",
    "k_ctrl_fdbk = control.dcgain(state_ctrl_fdbk_sys)\n",
    "kr = [1/k_ctrl_fdbk[0][0], 1, 1/k_ctrl_fdbk[1][0], 1]\n",
    "\n",
    "state_ctrl_fdbk_sys = control.StateSpace(A-B*K, -K.transpose(), C, D)\n",
    "\n",
    "state_ctrl_fdbk_sys *= kr\n",
    "\n",
    "response_state_ctrl = control.step_response(state_ctrl_fdbk_sys)\n",
    "\n",
    "fig, axs = plt.subplots(3)\n",
    "axs[0].plot(response_state_ctrl.time, response_state_ctrl.outputs[0][0])\n",
    "axs[0].set_title('x step response')\n",
    "axs[1].plot(response_state_ctrl.time, response_state_ctrl.outputs[1][0])\n",
    "axs[1].set_title('theta step response')\n",
    "axs[2].plot(response_state_ctrl.time, response_state_ctrl.inputs[0][0])\n",
    "axs[2].set_title('u')\n",
    "plt.subplots_adjust(left=0.1,\n",
    "                    bottom=0.1, \n",
    "                    right=0.9, \n",
    "                    top=1.3, \n",
    "                    wspace=0.4, \n",
    "                    hspace=0.4)"
   ]
  },
  {
   "cell_type": "markdown",
   "id": "c8f6633a",
   "metadata": {},
   "source": [
    "### Mathematical equations for inverted pendulum:\n",
    "\n",
    "\n",
    "\n",
    "1) $(I + m.l^2) \\cdot \\ddot{\\theta} - m.g.l.\\theta = m.l.\\ddot{x}$\n",
    "\n",
    "2) $(M + m) \\cdot \\ddot{x} + b.\\dot{x} - m.l.\\ddot{\\theta} = F$\n",
    "\n",
    "          _|  |_\n",
    "          \\    /\n",
    "           \\  /\n",
    "            \\/\n",
    "                    \n",
    "1) $\\ddot{\\theta} = \\frac{m.l}{(I+m.l^2)} \\cdot \\ddot{x} + \\frac{m.g.l}{I+m.l^2} \\cdot \\dot{\\theta}$\n",
    "\n",
    "2) $ \\ddot{x} = \\frac{-b}{(M+m)} \\cdot \\dot{x} + \\frac{m.l}{M+m} \\cdot \\ddot{\\theta} + F$\n",
    "\n",
    "          _|  |_\n",
    "          \\    /\n",
    "           \\  /\n",
    "            \\/\n",
    "            \n",
    "  $q = (I+m.l^2) \\cdot (M+m) - (m.l)^2$\n",
    "  \n",
    "1) $\\ddot{\\theta} = \\frac{-b.m.l}{q} \\cdot \\dot{x} + \\frac{m.l.(M+m)}{q} \\cdot F + \\frac{m.g.l.(I+m.l^2)}{q} \\cdot \\dot{\\theta}$\n",
    "\n",
    "2) $ \\ddot{x} = \\frac{-b.(I+ml^2)}{q} \\cdot \\dot{x} + \\frac{g.(ml)^2}{q} \\cdot \\dot{\\theta} + \\frac{(M+m)(I+ml^2)}{q} \\cdot F$\n"
   ]
  },
  {
   "cell_type": "markdown",
   "id": "770788cb",
   "metadata": {},
   "source": [
    "## Simulating non-linear model of inverted pendulum:"
   ]
  },
  {
   "cell_type": "code",
   "execution_count": 51,
   "id": "0690c69d",
   "metadata": {},
   "outputs": [],
   "source": [
    "# Simulating non-linear system\n",
    "\n",
    "def inverted_pend_update(t, x, u, params):\n",
    "    \n",
    "    M = params.get('m', .5)     # mass of the cart\n",
    "    m = params.get('M', 0.2)   # mass of the pendulum\n",
    "    b = params.get('c', 0.1)   # coefficient of the friction\n",
    "    I = params.get('I', 0.006) # mass moment of inertia of the pendulum\n",
    "    g = params.get('g', 9.8)   # acceleration of gravity\n",
    "    l = params.get('l', 0.3)   # length to pendulum center of mass\n",
    "    \n",
    "    x_ = x[0]\n",
    "    dot_x = x[1]\n",
    "    theta = x[2]\n",
    "    dot_theta = x[3]\n",
    "    F = u\n",
    "    \n",
    "    q = (I + m*l**2)*(M + m) - (m*l**2)\n",
    "    \n",
    "    ddot_x = ((-b*(I+m*l**2))/q)*dot_x + ((g*(m*l)**2)/q)*dot_theta + (((M+m)*(I+m*l**2))/q)*F\n",
    "    ddot_theta = ((-b*m*l)/q)*dot_x + ((m*l*(M+m))/q)*F + ((m*g*l*(I+m*l**2))/q)*dot_theta\n",
    "    \n",
    "    return np.array([dot_x, ddot_x, dot_theta, ddot_theta])\n",
    "\n",
    "def inverted_pend_output(t, x, u, params):\n",
    "    \n",
    "    return x\n",
    "\n",
    "pend_params = {'m': .5, 'M': 0.2, 'c':0.1, 'I': 0.006, 'g': 9.8, 'l': 0.3} \n",
    "\n",
    "pendulum = control.NonlinearIOSystem(\n",
    "    inverted_pend_update, inverted_pend_output, states=4, name='pendulum',\n",
    "    inputs=('F'), outputs=('x', 'dot_x', 'theta', 'dot_theta'), params=pend_params)\n",
    "    "
   ]
  },
  {
   "cell_type": "code",
   "execution_count": 148,
   "id": "97400400",
   "metadata": {},
   "outputs": [
    {
     "data": {
      "image/png": "[encoded data removed]",
      "text/plain": [
       "<Figure size 432x288 with 3 Axes>"
      ]
     },
     "metadata": {
      "needs_background": "light"
     },
     "output_type": "display_data"
    }
   ],
   "source": [
    "t_start = 0 # [s]\n",
    "t_end = 7   # [s]\n",
    "n = 100 \n",
    "\n",
    "T = np.linspace(t_start, t_end, n)\n",
    "u = np.full((n,), 0)\n",
    "X0 = [0, 0, 0, -1]\n",
    "\n",
    "t_sim, y_sim, x_sim = control.input_output_response(\n",
    "    pendulum, T, u, X0, params=pend_params, return_x=True)\n",
    "\n",
    "fig, axs = plt.subplots(3)\n",
    "axs[0].plot(T, y_sim[0])\n",
    "axs[0].set_title('x response')\n",
    "axs[1].plot(T, y_sim[2])\n",
    "axs[1].set_title('theta response')\n",
    "axs[2].plot(T, u)\n",
    "axs[2].set_title('u')\n",
    "plt.subplots_adjust(left=0.1,\n",
    "                    bottom=0.2, \n",
    "                    right=0.9, \n",
    "                    top=1.3, \n",
    "                    wspace=0.4, \n",
    "                    hspace=0.4)"
   ]
  },
  {
   "cell_type": "code",
   "execution_count": 149,
   "id": "b7dc1c09",
   "metadata": {},
   "outputs": [
    {
     "data": {
      "image/png": "[encoded data removed]",
      "text/plain": [
       "<Figure size 432x288 with 3 Axes>"
      ]
     },
     "metadata": {
      "needs_background": "light"
     },
     "output_type": "display_data"
    }
   ],
   "source": [
    "t_start = 0 # [s]\n",
    "t_end = 7   # [s]\n",
    "n = 100 \n",
    "\n",
    "T = np.linspace(t_start, t_end, n)\n",
    "u_1 = np.full((int(n/2),), 1)\n",
    "u_2 = np.full((int(n/2),), 0)\n",
    "u = np.hstack((u_1, u_2))\n",
    "X0 = [0, 0, 0, 0]\n",
    "\n",
    "t_sim, y_sim, x_sim = control.input_output_response(\n",
    "    pendulum, T, u, X0, params=pend_params, return_x=True)\n",
    "\n",
    "fig, axs = plt.subplots(3)\n",
    "axs[0].plot(T, y_sim[0])\n",
    "axs[0].set_title('x response')\n",
    "axs[1].plot(T, y_sim[2])\n",
    "axs[1].set_title('theta response')\n",
    "axs[2].plot(T, u)\n",
    "axs[2].set_title('u')\n",
    "plt.subplots_adjust(left=0.1,\n",
    "                    bottom=0.2, \n",
    "                    right=0.9, \n",
    "                    top=1.3, \n",
    "                    wspace=0.4, \n",
    "                    hspace=0.4)"
   ]
  },
  {
   "cell_type": "markdown",
   "id": "6660e862",
   "metadata": {},
   "source": [
    "## LQR controller design with control lib. python:"
   ]
  },
  {
   "cell_type": "code",
   "execution_count": 54,
   "id": "bd918142",
   "metadata": {},
   "outputs": [
    {
     "name": "stdout",
     "output_type": "stream",
     "text": [
      "[[-4.47213595 -5.06393848 31.65583773  5.91788676]]\n"
     ]
    }
   ],
   "source": [
    "Q = [[1, 0, 0, 0],[0, 0.1, 0, 0],[0, 0, 5, 0],[0, 0, 0, 0.1]]             # state cost matrix\n",
    "R = [[0.05]]                                                              # input cost matrix\n",
    "\n",
    "K_lqr, S, E = control.lqr(sys, Q, R)\n",
    "\n",
    "print(K_lqr)"
   ]
  },
  {
   "cell_type": "code",
   "execution_count": 55,
   "id": "4a318fd5",
   "metadata": {},
   "outputs": [
    {
     "data": {
      "image/png": "[encoded data removed]",
      "text/plain": [
       "<Figure size 432x288 with 3 Axes>"
      ]
     },
     "metadata": {
      "needs_background": "light"
     },
     "output_type": "display_data"
    }
   ],
   "source": [
    "sys_lqr = control.StateSpace(A-B*K_lqr, -K_lqr.transpose(), C, D)\n",
    "\n",
    "k_lqr = control.dcgain(sys_lqr)\n",
    "kr = [1/k_lqr[0][0], 1, 1/k_lqr[1][0], 1]\n",
    "\n",
    "sys_lqr *= kr                              # rescailing\n",
    "\n",
    "response_lqr = control.step_response(sys_lqr)\n",
    "\n",
    "fig, axs = plt.subplots(3)\n",
    "axs[0].plot(response_lqr.time, response_lqr.outputs[0][0])\n",
    "axs[0].set_title('x step response')\n",
    "axs[1].plot(response_lqr.time, response_lqr.outputs[1][0])\n",
    "axs[1].set_title('theta step response')\n",
    "axs[2].plot(response_lqr.time, response_lqr.inputs[0][0])\n",
    "axs[2].set_title('u')\n",
    "plt.subplots_adjust(left=0.1,\n",
    "                    bottom=0.1, \n",
    "                    right=0.9, \n",
    "                    top=1.3, \n",
    "                    wspace=0.4, \n",
    "                    hspace=0.4)"
   ]
  },
  {
   "cell_type": "markdown",
   "id": "2e7decfa",
   "metadata": {},
   "source": [
    "## Nonlinear model of inverted pendulum with inputs (scipy.integrate.odeint)"
   ]
  },
  {
   "cell_type": "markdown",
   "id": "e34e6ba4",
   "metadata": {},
   "source": [
    "### Mathematical equations for inverted pendulum:\n",
    "\n",
    "\n",
    "\n",
    "1) $(I + m.l^2) \\cdot \\ddot{\\theta} - m.g.l.\\theta = m.l.\\ddot{x}$\n",
    "\n",
    "2) $(M + m) \\cdot \\ddot{x} + b.\\dot{x} - m.l.\\ddot{\\theta} = F$\n",
    "\n",
    "          _|  |_\n",
    "          \\    /\n",
    "           \\  /\n",
    "            \\/\n",
    "                    \n",
    "1) $\\ddot{\\theta} = \\frac{m.l}{(I+m.l^2)} \\cdot \\ddot{x} + \\frac{m.g.l}{I+m.l^2} \\cdot \\dot{\\theta}$\n",
    "\n",
    "2) $ \\ddot{x} = \\frac{-b}{(M+m)} \\cdot \\dot{x} + \\frac{m.l}{M+m} \\cdot \\ddot{\\theta} + F$\n",
    "\n",
    "          _|  |_\n",
    "          \\    /\n",
    "           \\  /\n",
    "            \\/\n",
    "            \n",
    "  $q = (I+m.l^2) \\cdot (M+m) - (m.l)^2$\n",
    "  \n",
    "1) $ \\ddot{x} = \\frac{-b.(I+ml^2)}{q} \\cdot \\dot{x} + \\frac{g.(ml)^2}{q} \\cdot \\dot{\\theta} + \\frac{(M+m)(I+ml^2)}{q} \\cdot F$ \n",
    "\n",
    "\n",
    "\n",
    "2) $\\ddot{\\theta} = \\frac{-b.m.l}{q} \\cdot \\dot{x} + \\frac{m.l.(M+m)}{q} \\cdot F + \\frac{m.g.l.(I+m.l^2)}{q} \\cdot \\dot{\\theta}$\n"
   ]
  },
  {
   "cell_type": "code",
   "execution_count": 150,
   "id": "6032e936",
   "metadata": {},
   "outputs": [],
   "source": [
    "# Building custom non-linear model\n",
    "\n",
    "t = np.arange(0, 20, 1e-3)\n",
    "\n",
    "\n",
    "def F(x, t):\n",
    "    \n",
    "    return 1\n",
    "\n",
    "def f(x, t):\n",
    "    \n",
    "    M = 0.5     # mass of the cart\n",
    "    m = 0.2   # mass of the pendulum\n",
    "    b = 0.1   # coefficient of the friction\n",
    "    I = 0.006 # mass moment of inertia of the pendulum\n",
    "    g = 9.81   # acceleration of gravity\n",
    "    l = 0.3   # length to pendulum center of mass\n",
    "    \n",
    "    d_x = np.zeros((4,))\n",
    "    \n",
    "    q = (I + m*l**2)*(M + m) - (m*l**2)\n",
    "    # dot_x\n",
    "    d_x[0] = x[1]\n",
    "    # ddot_x\n",
    "    d_x[1] = ((-b*(I+m*l**2))/q)*x[1] + ((g*(m*l)**2)/q)*x[3] + (((M+m)*(I+m*l**2))/q)*F(x, t)\n",
    "    # dot_theta\n",
    "    d_x[2] = x[3]\n",
    "    # ddot_theta\n",
    "    d_x[3] = ((-b*m*l)/q)*x[1] + ((m*g*l*(I+m*l**2))/q)*x[3] + ((m*l*(M+m))/q)*F(x, t)\n",
    "    \n",
    "    return d_x\n",
    "\n",
    "\n",
    "\n",
    "s = odeint(f, y0=[0, 0, 0, 0], t=t)\n"
   ]
  },
  {
   "cell_type": "code",
   "execution_count": 151,
   "id": "36fc19d2",
   "metadata": {},
   "outputs": [
    {
     "data": {
      "image/png": "[encoded data removed]",
      "text/plain": [
       "<Figure size 432x288 with 2 Axes>"
      ]
     },
     "metadata": {
      "needs_background": "light"
     },
     "output_type": "display_data"
    }
   ],
   "source": [
    "fig, axs = plt.subplots(2)\n",
    "axs[0].plot(t, s[:, 0])\n",
    "axs[0].set_title('x nonlinear simulation')\n",
    "axs[1].plot(t, s[:, 2])\n",
    "axs[1].set_title('theta nonlinear simulation')\n",
    "plt.subplots_adjust(left=0.1,\n",
    "                    bottom=0.1, \n",
    "                    right=0.9, \n",
    "                    top=1.3, \n",
    "                    wspace=0.4, \n",
    "                    hspace=0.4)"
   ]
  },
  {
   "cell_type": "code",
   "execution_count": null,
   "id": "cc3630e9",
   "metadata": {},
   "outputs": [],
   "source": []
  },
  {
   "cell_type": "code",
   "execution_count": null,
   "id": "19b6e008",
   "metadata": {},
   "outputs": [],
   "source": []
  },
  {
   "cell_type": "code",
   "execution_count": null,
   "id": "6f713bf3",
   "metadata": {},
   "outputs": [],
   "source": []
  }
 ],
 "metadata": {
  "kernelspec": {
   "display_name": "Python 3 (ipykernel)",
   "language": "python",
   "name": "python3"
  },
  "language_info": {
   "codemirror_mode": {
    "name": "ipython",
    "version": 3
   },
   "file_extension": ".py",
   "mimetype": "text/x-python",
   "name": "python",
   "nbconvert_exporter": "python",
   "pygments_lexer": "ipython3",
   "version": "3.7.3"
  }
 },
 "nbformat": 4,
 "nbformat_minor": 5
}
